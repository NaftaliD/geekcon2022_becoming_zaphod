{
 "cells": [
  {
   "cell_type": "code",
   "execution_count": 19,
   "id": "southeast-chair",
   "metadata": {},
   "outputs": [],
   "source": [
    "import eliza"
   ]
  },
  {
   "cell_type": "code",
   "execution_count": null,
   "id": "adaptive-novel",
   "metadata": {},
   "outputs": [
    {
     "name": "stdout",
     "output_type": "stream",
     "text": [
      "Therapist\n",
      "---------\n",
      "Talk to the program by typing in plain English, using normal upper-\n",
      "and lower-case letters and punctuation.  Enter \"quit\" when done.\n",
      "========================================================================\n",
      "Hello.  How are you feeling today?\n",
      "> FINE\n",
      "FINE\n",
      "Can you elaborate on that?\n",
      "> NO\n",
      "NO\n",
      "How does that make you feel?\n"
     ]
    }
   ],
   "source": [
    "import eliza\n",
    "\n",
    "eliza.command_interface()"
   ]
  },
  {
   "cell_type": "code",
   "execution_count": null,
   "id": "acute-responsibility",
   "metadata": {},
   "outputs": [],
   "source": []
  },
  {
   "cell_type": "code",
   "execution_count": null,
   "id": "metropolitan-tracker",
   "metadata": {},
   "outputs": [],
   "source": [
    "\"Ahhh Yes, nooo...!\""
   ]
  },
  {
   "cell_type": "code",
   "execution_count": null,
   "id": "cross-intermediate",
   "metadata": {},
   "outputs": [],
   "source": []
  }
 ],
 "metadata": {
  "kernelspec": {
   "display_name": "Python 3",
   "language": "python",
   "name": "python3"
  },
  "language_info": {
   "codemirror_mode": {
    "name": "ipython",
    "version": 3
   },
   "file_extension": ".py",
   "mimetype": "text/x-python",
   "name": "python",
   "nbconvert_exporter": "python",
   "pygments_lexer": "ipython3",
   "version": "3.7.6"
  },
  "toc": {
   "base_numbering": 1,
   "nav_menu": {},
   "number_sections": true,
   "sideBar": true,
   "skip_h1_title": false,
   "title_cell": "Table of Contents",
   "title_sidebar": "Contents",
   "toc_cell": false,
   "toc_position": {},
   "toc_section_display": true,
   "toc_window_display": false
  }
 },
 "nbformat": 4,
 "nbformat_minor": 5
}
