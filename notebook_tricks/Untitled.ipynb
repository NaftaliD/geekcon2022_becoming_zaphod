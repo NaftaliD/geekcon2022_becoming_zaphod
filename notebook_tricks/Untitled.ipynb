{
 "cells": [
  {
   "cell_type": "code",
   "execution_count": 1,
   "id": "retired-assault",
   "metadata": {},
   "outputs": [],
   "source": [
    "import eliza"
   ]
  },
  {
   "cell_type": "code",
   "execution_count": null,
   "id": "cooperative-termination",
   "metadata": {},
   "outputs": [
    {
     "name": "stdout",
     "output_type": "stream",
     "text": [
      "Zaphod\n",
      "---------\n",
      "Talk to the zaphod by typing in plain English, using normal upper-\n",
      "and lower-case letters and punctuation.  Enter \"quit\" when done.\n",
      "========================================================================\n",
      "Hello.  How are you feeling today?\n",
      "> Fuck you\n",
      "Fuck you\n",
      "fuck me.\n",
      "> No\n",
      "No\n",
      "How do you feel when you say that?\n",
      "> like nothing\n",
      "like nothing\n",
      "I see.\n",
      "> hummm\n",
      "hummm\n",
      "If there's anything more important than my ego around, I want it caught and shot now.\n",
      "> I see\n",
      "I see\n",
      "How does that make you feel?\n",
      "> like a fool\n",
      "like a fool\n",
      "Let's change focus a bit... Tell me about your family.\n",
      "> my family?\n",
      "my family?\n",
      "I see, your family.\n",
      "> I see\n",
      "I see\n",
      "Please tell me more.\n",
      "> I don't want to\n",
      "I don't want to\n",
      "Do you want to want to?\n",
      "> I want to ant to\n",
      "I want to ant to\n",
      "What would you do if you got to ant to?\n",
      "> mostly nothing\n",
      "mostly nothing\n",
      "Can you elaborate on that?\n",
      "> I think so\n",
      "I think so\n",
      "Do you doubt so?\n",
      "> ha?\n",
      "ha?\n",
      "Why do you ask that?\n",
      "> because I'm confused\n",
      "because I'm confused\n",
      "Is that a real reason? oh god\n",
      "> Are you god?\n",
      "Are you god?\n",
      "Would you prefer it if I were not god? cause I care!\n"
     ]
    }
   ],
   "source": [
    "import zaphod\n",
    "\n",
    "zaphod.command_interface()"
   ]
  },
  {
   "cell_type": "code",
   "execution_count": null,
   "id": "animal-camping",
   "metadata": {},
   "outputs": [],
   "source": []
  },
  {
   "cell_type": "code",
   "execution_count": null,
   "id": "several-aruba",
   "metadata": {},
   "outputs": [],
   "source": [
    "\"Ahhh Yes, nooo...!\""
   ]
  },
  {
   "cell_type": "code",
   "execution_count": null,
   "id": "original-richardson",
   "metadata": {},
   "outputs": [],
   "source": []
  }
 ],
 "metadata": {
  "kernelspec": {
   "display_name": "Python 3",
   "language": "python",
   "name": "python3"
  },
  "language_info": {
   "codemirror_mode": {
    "name": "ipython",
    "version": 3
   },
   "file_extension": ".py",
   "mimetype": "text/x-python",
   "name": "python",
   "nbconvert_exporter": "python",
   "pygments_lexer": "ipython3",
   "version": "3.7.6"
  },
  "toc": {
   "base_numbering": 1,
   "nav_menu": {},
   "number_sections": true,
   "sideBar": true,
   "skip_h1_title": false,
   "title_cell": "Table of Contents",
   "title_sidebar": "Contents",
   "toc_cell": false,
   "toc_position": {},
   "toc_section_display": true,
   "toc_window_display": false
  }
 },
 "nbformat": 4,
 "nbformat_minor": 5
}
